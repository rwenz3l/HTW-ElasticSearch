{
 "cells": [
  {
   "cell_type": "code",
   "execution_count": null,
   "metadata": {
    "collapsed": true
   },
   "outputs": [],
   "source": [
    "# Insert into medium\n",
    "\n",
    "# Create new Index\n",
    "curl -XDELETE 'localhost:9200/htwberlin?pretty'\n",
    "curl -XPUT 'localhost:9200/htwberlin?pretty'\n",
    "\n",
    "# Erzeugen eines JSON-Konformen Datenstroms (hehe)\n",
    "cat docs.json | jq -c '{ index: { } },. ' > bulk.json\n",
    "\n",
    "#alternative mit Index + Type\n",
    "cat docs.json | jq -c '{ index: { _index: \"htwberlin\", _type: \"medium\" } },. '\n",
    "\n",
    "# Wer kein Bash/jq hat sollte einfach den Header in die Datei reinkopieren können\n",
    "Header = '{ index: { } }' # <-- Muss über jedem eintrag stehen.\n",
    "\n",
    "# Sieht am Ende so aus:"
   ]
  },
  {
   "cell_type": "code",
   "execution_count": null,
   "metadata": {
    "collapsed": true
   },
   "outputs": [],
   "source": [
    "{\"index\":{}}\n",
    "{\"owner\":\"3\",\"viewable\":[3,2],\"public\":true,\"filename\":\"Bachelor Party 2015.jpg\"}\n",
    "{\"index\":{}}\n",
    "{\"owner\":\"2\",\"viewable\":[3,2,1],\"public\":true,\"filename\":\"Bachelor Party 2016.jpg\"}\n",
    "{\"index\":{}}\n",
    "{\"owner\":\"1\",\"viewable\":[3,2,1],\"public\":true,\"filename\":\"Bachelor Party 2017.jpg\"}\n",
    "{\"index\":{}}\n",
    "{\"owner\":\"3\",\"viewable\":[3,2],\"public\":true,\"filename\":\"Master Party 2015.jpg\"}\n",
    "{\"index\":{}}\n",
    "{\"owner\":\"2\",\"viewable\":[3,2,1],\"public\":true,\"filename\":\"Master Party 2016.jpg\"}\n",
    "{\"index\":{}}\n",
    "{\"owner\":\"1\",\"viewable\":[3,2,1],\"public\":true,\"filename\":\"Master Party 2017.jpg\"}\n",
    "{\"index\":{}}\n",
    "{\"owner\":\"1\",\"viewable\":[3,2,1],\"public\":false,\"filename\":\"Master Party 2017 (geheim).jpg\"}\n",
    "{\"index\":{}}\n",
    "{\"owner\":\"1\",\"viewable\":[3,2,1],\"public\":true,\"filename\":\"Master Absolventen 2017.jpg\"}\n",
    "{\"index\":{}}\n",
    "{\"owner\":\"1\",\"viewable\":[3,2,1],\"public\":true,\"filename\":\"Dozenten.jpg\"}\n",
    "{\"index\":{}}\n",
    "{\"owner\":\"1\",\"viewable\":[3,2,1],\"public\":true,\"filename\":\"HTW Gebaeude C.jpg\"}"
   ]
  },
  {
   "cell_type": "code",
   "execution_count": null,
   "metadata": {
    "collapsed": true
   },
   "outputs": [],
   "source": [
    "# Alternativ alles Einzeln via XPOST einfügen:\n",
    "curl -XPOST 'localhost:9200/htwberlin/medium/?pretty' -H 'Content-Type: application/json' -d'\n",
    "{\"owner\":\"3\",\"viewable\":[3,2],\"public\":true,\"filename\":\"Bachelor Party 2015.jpg\"}'"
   ]
  },
  {
   "cell_type": "code",
   "execution_count": null,
   "metadata": {
    "collapsed": true
   },
   "outputs": [],
   "source": [
    "# Übergebe die Daten via dem _bulk entpunkt an ElasticSearch\n",
    "# Wichtig: Wenn ihr den Index/type angebt darf der Header leer sein\n",
    "# Ansonsten muss dort _index : index und _type : type angegeben werden.\n",
    "curl -XPOST 'localhost:9200/htwberlin/medium/_bulk?pretty' --data-binary @bulk.json\n",
    "\n",
    "# Verify (Sollten 10 Hits sein)\n",
    "curl -XPOST 'localhost:9200/htwberlin/medium/_search?pretty'"
   ]
  },
  {
   "cell_type": "code",
   "execution_count": null,
   "metadata": {
    "collapsed": true
   },
   "outputs": [],
   "source": [
    "# 1) Finde Dokumente welche 'party' oder 'absolventen' im Dateinamen haben.\n",
    "# Match Query\n",
    "curl -XPOST 'localhost:9200/htwberlin/medium/_search?pretty' -H 'Content-Type: application/json' -d'\n",
    "{\n",
    "\"query\": {\n",
    "  \"match\": { \"filename\" : \"party absolventen\" }\n",
    "  }\n",
    "}'\n",
    "# Hier ist durch match ein richtiges Scoring\n",
    "\n",
    "# Alternativ mit einem Constant_Score/Terms Query\n",
    "curl -XPOST 'localhost:9200/htwberlin/medium/_search?pretty' -H 'Content-Type: application/json' -d'\n",
    "{\n",
    "    \"query\": {\n",
    "        \"constant_score\" : {\n",
    "            \"filter\" : {\n",
    "                \"terms\" : { \"filename\" : [\"party\", \"absolventen\"]}\n",
    "            }\n",
    "        }\n",
    "    }\n",
    "}'\n",
    "# Hier wird nur auf alle ergebnisse gefiltert"
   ]
  },
  {
   "cell_type": "code",
   "execution_count": null,
   "metadata": {
    "collapsed": true
   },
   "outputs": [],
   "source": [
    "# 2) Ich muss das Dokument sehen dürfen.\n",
    "# Simple Match Query\n",
    "curl -XPOST 'localhost:9200/htwberlin/medium/_search?pretty' -H 'Content-Type: application/json' -d'\n",
    "{\n",
    "\"query\": {\n",
    "  \"match\": { \"viewable\" : \"1\" }\n",
    "  }\n",
    "}'\n",
    "\n",
    "# Harder Bool-Query\n",
    "curl -XPOST 'localhost:9200/htwberlin/medium/_search?pretty' -H 'Content-Type: application/json' -d'\n",
    "{\n",
    "  \"query\": {\n",
    "    \"bool\" : {\n",
    "      \"must\" : {\n",
    "        \"term\" : { \"viewable\" : \"1\" }\n",
    "      }\n",
    "    }\n",
    "  }\n",
    "}'"
   ]
  },
  {
   "cell_type": "code",
   "execution_count": null,
   "metadata": {
    "collapsed": true
   },
   "outputs": [],
   "source": [
    "# 3) Es dürfen nur öffentliche Dokumente gefunden werden.\n",
    "# Match Query\n",
    "curl -XPOST 'localhost:9200/htwberlin/medium/_search?pretty' -H 'Content-Type: application/json' -d'\n",
    "{\n",
    "\"query\": {\n",
    "  \"match\": { \"public\" : \"true\" }\n",
    "  }\n",
    "}'\n",
    "\n",
    "# Bool Query\n",
    "curl -XPOST 'localhost:9200/htwberlin/medium/_search?pretty' -H 'Content-Type: application/json' -d'\n",
    "{\n",
    "  \"query\": {\n",
    "    \"bool\" : {\n",
    "      \"must\" : {\n",
    "        \"term\" : { \"public\" : \"true\" }\n",
    "      }\n",
    "    }\n",
    "  }\n",
    "}'"
   ]
  },
  {
   "cell_type": "code",
   "execution_count": null,
   "metadata": {
    "collapsed": true
   },
   "outputs": [],
   "source": [
    "# 4) Dokumente, von denen ich der Eigentürmer bin, sollen in der Ergebnismenge stärker berücksichtigt werden\n",
    "# (eine höhere Relevanz haben/weiter oben erscheinen).\n",
    "curl -XPOST 'localhost:9200/_search?pretty' -H 'Content-Type: application/json' -d'\n",
    "{\n",
    "  \"query\": {\n",
    "    \"bool\": {\n",
    "      \"must\": {\n",
    "        \"match_all\": {}\n",
    "      },\n",
    "      \"should\": {\n",
    "        \"term\": {\n",
    "          \"owner\": {\n",
    "            \"value\": \"1\",\n",
    "            \"boost\": 2\n",
    "          }\n",
    "        }\n",
    "      }\n",
    "    }\n",
    "  }\n",
    "}\n",
    "'"
   ]
  },
  {
   "cell_type": "code",
   "execution_count": null,
   "metadata": {
    "collapsed": true
   },
   "outputs": [],
   "source": [
    "# One Query to rule them all\n",
    "curl -XPOST 'localhost:9200/_search?pretty' -H 'Content-Type: application/json' -d'\n",
    "{\n",
    "  \"query\": {\n",
    "    \"bool\": {\n",
    "      \"must\" : [\n",
    "        {\"term\" : { \"public\" : \"true\" }},\n",
    "        {\"term\" : { \"viewable\" : \"1\" }},\n",
    "        {\"match\" : { \"filename\" : \"party absolventen\"}}\n",
    "        ],\n",
    "      \"should\": {\n",
    "        \"term\": {\n",
    "          \"owner\": {\n",
    "            \"value\": \"1\"\n",
    "          }\n",
    "        }\n",
    "      }\n",
    "    }\n",
    "  }\n",
    "}\n",
    "'\n",
    "\n",
    "# public: true und viewable:1 sind eher als filter zu implementieren (simples ja/nein verhalten)"
   ]
  }
 ],
 "metadata": {
  "kernelspec": {
   "display_name": "Bash",
   "language": "bash",
   "name": "bash"
  },
  "language_info": {
   "codemirror_mode": "shell",
   "file_extension": ".sh",
   "mimetype": "text/x-sh",
   "name": "bash"
  }
 },
 "nbformat": 4,
 "nbformat_minor": 2
}

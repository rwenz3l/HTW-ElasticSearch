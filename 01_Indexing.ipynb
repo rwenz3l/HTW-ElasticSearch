{
 "cells": [
  {
   "cell_type": "code",
   "execution_count": 1,
   "metadata": {},
   "outputs": [
    {
     "name": "stdout",
     "output_type": "stream",
     "text": [
      "\n",
      "{\n",
      "  \"id\": \"306\",\n",
      "  \"created_at\": \"2016-05-25 15:03:05.423\",\n",
      "  \"uploaded_at\": \"2016-05-25  15:03:05.423\",\n",
      "  \"description\": \"\",\n",
      "  \"filename\": \"Jellyfish.jpg\",\n",
      "  \"mimetype\": \"image/jpeg\"\n",
      "  \"size\": \"775702\",\n",
      "  \"title\": \"Jellyfish.jpg\",\n",
      "  \"url\": \"2016/05/25/d5e569d7-7de6-4502-86b6-b0b34d447bc1 Jellyfish.jpeg\"\n",
      "  \"folder_id\": \"243\",\n",
      "  \"owner_id\": \"244\"\n",
      "}\n",
      "\n"
     ]
    }
   ],
   "source": [
    "# AUFGABE 1 #\n",
    "# a) Notiere das Suchergebnis im JSON-Format.\n",
    "JSON='\n",
    "{\n",
    "  \"id\": \"306\",\n",
    "  \"created_at\": \"2016-05-25 15:03:05.423\",\n",
    "  \"uploaded_at\": \"2016-05-25  15:03:05.423\",\n",
    "  \"description\": \"\",\n",
    "  \"filename\": \"Jellyfish.jpg\",\n",
    "  \"mimetype\": \"image/jpeg\"\n",
    "  \"size\": \"775702\",\n",
    "  \"title\": \"Jellyfish.jpg\",\n",
    "  \"url\": \"2016/05/25/d5e569d7-7de6-4502-86b6-b0b34d447bc1 Jellyfish.jpeg\"\n",
    "  \"folder_id\": \"243\",\n",
    "  \"owner_id\": \"244\"\n",
    "}\n",
    "'\n",
    "echo \"${JSON}\""
   ]
  },
  {
   "cell_type": "code",
   "execution_count": 2,
   "metadata": {
    "collapsed": true
   },
   "outputs": [],
   "source": [
    "# b) Starte einen Elasticsearch Server in der Version 5.3.x.\n",
    "# Siehe 00_SetupES --> Hier läuft bereits eine Instanz\n",
    "\n",
    "# curl -L -O https://artifacts.elastic.co/downloads/elasticsearch/elasticsearch-5.3.1.tar.gz\n",
    "# tar -xvf elasticsearch-5.3.1.tar.gz\n",
    "# cd elasticsearch-5.3.1/bin\n",
    "# ./elasticsearch -Ecluster.name=htw -Enode.name=htw1"
   ]
  },
  {
   "cell_type": "code",
   "execution_count": 3,
   "metadata": {},
   "outputs": [
    {
     "name": "stdout",
     "output_type": "stream",
     "text": [
      "{\n",
      "  \"acknowledged\" : true,\n",
      "  \"shards_acknowledged\" : true\n",
      "}\n"
     ]
    }
   ],
   "source": [
    "# c) Erzeuge einen Index mit dem Namen 'htwberlin' mit einem Shard und null Replica-Shards\n",
    "curl -XPUT 'localhost:9200/htwberlin?pretty' -H 'Content-Type: application/json' -d'\n",
    "{\n",
    "    \"settings\" : {\n",
    "        \"index\" : {\n",
    "            \"number_of_shards\" : 1,\n",
    "            \"number_of_replicas\" : 0 \n",
    "        }\n",
    "    }\n",
    "}\n",
    "'"
   ]
  },
  {
   "cell_type": "code",
   "execution_count": 4,
   "metadata": {},
   "outputs": [
    {
     "name": "stdout",
     "output_type": "stream",
     "text": [
      "health status index     uuid                   pri rep docs.count docs.deleted store.size pri.store.size\n",
      "green  open   htwberlin FLBhreEJRzeqnomC5_tFwA   1   0          0            0       130b           130b\n"
     ]
    }
   ],
   "source": [
    "# Testen ob angekommen\n",
    "curl -XGET 'localhost:9200/_cat/indices?v'\n",
    "\n",
    "# ggf löschen für weitere spielereien\n",
    "# curl -XDELETE 'localhost:9200/htwberlin?pretty' "
   ]
  },
  {
   "cell_type": "code",
   "execution_count": 5,
   "metadata": {},
   "outputs": [
    {
     "name": "stdout",
     "output_type": "stream",
     "text": [
      "{\n",
      "  \"_index\" : \"htwberlin\",\n",
      "  \"_type\" : \"medium\",\n",
      "  \"_id\" : \"1\",\n",
      "  \"_version\" : 1,\n",
      "  \"result\" : \"created\",\n",
      "  \"_shards\" : {\n",
      "    \"total\" : 1,\n",
      "    \"successful\" : 1,\n",
      "    \"failed\" : 0\n",
      "  },\n",
      "  \"created\" : true\n",
      "}\n"
     ]
    }
   ],
   "source": [
    "# d) Indexiere das Dokument mit dem Dokumenten-Typ ‚medium‘ in den erzeugten ‚htwberlin‘ Index\n",
    "\n",
    "curl -XPUT 'localhost:9200/htwberlin/medium/1?pretty' -H 'Content-Type: application/json' -d'\n",
    "{\n",
    "  \"id\": \"306\",\n",
    "  \"created_at\": \"2016-05-25 15:03:05.423\",\n",
    "  \"uploaded_at\": \"2016-05-25  15:03:05.423\",\n",
    "  \"description\": \"\",\n",
    "  \"filename\": \"Jellyfish.jpg\",\n",
    "  \"mimetype\": \"image/jpeg\",\n",
    "  \"size\": 775702,\n",
    "  \"title\": \"Jellyfish.jpg\",\n",
    "  \"url\": \"2016/05/25/d5e569d7-7de6-4502-86b6-b0b34d447bc1/Jellyfish.jpeg\",\n",
    "  \"folder_id\": \"243\",\n",
    "  \"owner_id\": \"244\"\n",
    "}'"
   ]
  },
  {
   "cell_type": "code",
   "execution_count": 6,
   "metadata": {},
   "outputs": [
    {
     "name": "stdout",
     "output_type": "stream",
     "text": [
      "{\n",
      "  \"htwberlin\" : {\n",
      "    \"mappings\" : {\n",
      "      \"medium\" : {\n",
      "        \"properties\" : {\n",
      "          \"created_at\" : {\n",
      "            \"type\" : \"text\",\n",
      "            \"fields\" : {\n",
      "              \"keyword\" : {\n",
      "                \"type\" : \"keyword\",\n",
      "                \"ignore_above\" : 256\n",
      "              }\n",
      "            }\n",
      "          },\n",
      "          \"description\" : {\n",
      "            \"type\" : \"text\",\n",
      "            \"fields\" : {\n",
      "              \"keyword\" : {\n",
      "                \"type\" : \"keyword\",\n",
      "                \"ignore_above\" : 256\n",
      "              }\n",
      "            }\n",
      "          },\n",
      "          \"filename\" : {\n",
      "            \"type\" : \"text\",\n",
      "            \"fields\" : {\n",
      "              \"keyword\" : {\n",
      "                \"type\" : \"keyword\",\n",
      "                \"ignore_above\" : 256\n",
      "              }\n",
      "            }\n",
      "          },\n",
      "          \"folder_id\" : {\n",
      "            \"type\" : \"text\",\n",
      "            \"fields\" : {\n",
      "              \"keyword\" : {\n",
      "                \"type\" : \"keyword\",\n",
      "                \"ignore_above\" : 256\n",
      "              }\n",
      "            }\n",
      "          },\n",
      "          \"id\" : {\n",
      "            \"type\" : \"text\",\n",
      "            \"fields\" : {\n",
      "              \"keyword\" : {\n",
      "                \"type\" : \"keyword\",\n",
      "                \"ignore_above\" : 256\n",
      "              }\n",
      "            }\n",
      "          },\n",
      "          \"mimetype\" : {\n",
      "            \"type\" : \"text\",\n",
      "            \"fields\" : {\n",
      "              \"keyword\" : {\n",
      "                \"type\" : \"keyword\",\n",
      "                \"ignore_above\" : 256\n",
      "              }\n",
      "            }\n",
      "          },\n",
      "          \"owner_id\" : {\n",
      "            \"type\" : \"text\",\n",
      "            \"fields\" : {\n",
      "              \"keyword\" : {\n",
      "                \"type\" : \"keyword\",\n",
      "                \"ignore_above\" : 256\n",
      "              }\n",
      "            }\n",
      "          },\n",
      "          \"size\" : {\n",
      "            \"type\" : \"long\"\n",
      "          },\n",
      "          \"title\" : {\n",
      "            \"type\" : \"text\",\n",
      "            \"fields\" : {\n",
      "              \"keyword\" : {\n",
      "                \"type\" : \"keyword\",\n",
      "                \"ignore_above\" : 256\n",
      "              }\n",
      "            }\n",
      "          },\n",
      "          \"uploaded_at\" : {\n",
      "            \"type\" : \"text\",\n",
      "            \"fields\" : {\n",
      "              \"keyword\" : {\n",
      "                \"type\" : \"keyword\",\n",
      "                \"ignore_above\" : 256\n",
      "              }\n",
      "            }\n",
      "          },\n",
      "          \"url\" : {\n",
      "            \"type\" : \"text\",\n",
      "            \"fields\" : {\n",
      "              \"keyword\" : {\n",
      "                \"type\" : \"keyword\",\n",
      "                \"ignore_above\" : 256\n",
      "              }\n",
      "            }\n",
      "          }\n",
      "        }\n",
      "      }\n",
      "    }\n",
      "  }\n",
      "}\n"
     ]
    }
   ],
   "source": [
    "# e) Finde heraus, welche internen Datentypen\n",
    "# für die einzelnen Felder von Elasticsearch verwendet werden (Mapping).\n",
    "curl -XGET 'localhost:9200/htwberlin/_mapping/medium?pretty'"
   ]
  }
 ],
 "metadata": {
  "kernelspec": {
   "display_name": "Bash",
   "language": "bash",
   "name": "bash"
  },
  "language_info": {
   "codemirror_mode": "shell",
   "file_extension": ".sh",
   "mimetype": "text/x-sh",
   "name": "bash"
  }
 },
 "nbformat": 4,
 "nbformat_minor": 2
}

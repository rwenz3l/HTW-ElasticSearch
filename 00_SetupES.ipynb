{
 "cells": [
  {
   "cell_type": "code",
   "execution_count": 1,
   "metadata": {},
   "outputs": [
    {
     "name": "stdout",
     "output_type": "stream",
     "text": [
      "  % Total    % Received % Xferd  Average Speed   Time    Time     Time  Current\n",
      "                                 Dload  Upload   Total   Spent    Left  Speed\n",
      "100 31.8M  100 31.8M    0     0  2110k      0  0:00:15  0:00:15 --:--:-- 3341k\n"
     ]
    }
   ],
   "source": [
    "# Download and Setup ES\n",
    "curl 'https://artifacts.elastic.co/downloads/elasticsearch/elasticsearch-5.4.3.zip' -O\n",
    "unzip elasticsearch-*.zip &>/dev/null\n",
    "rm elasticsearch-*.zip\n",
    "mv elasticsearch-* es"
   ]
  },
  {
   "cell_type": "code",
   "execution_count": 1,
   "metadata": {
    "collapsed": true
   },
   "outputs": [],
   "source": [
    "# Starten einer ElasticSearch Instanz\n",
    "screen -d -m -S elastic ./es/bin/elasticsearch -Ecluster.name=garden -Enode.name=cherry"
   ]
  },
  {
   "cell_type": "code",
   "execution_count": 2,
   "metadata": {},
   "outputs": [
    {
     "name": "stdout",
     "output_type": "stream",
     "text": [
      "There is a screen on:\n",
      "\t25150.elastic\t(Detached)\n",
      "1 Socket in /var/folders/8n/5x_z2syd6bx_wxcm9g1flyrm0001g4/T/.screen.\n",
      "\n"
     ]
    },
    {
     "ename": "",
     "evalue": "1",
     "output_type": "error",
     "traceback": []
    }
   ],
   "source": [
    "screen -ls"
   ]
  },
  {
   "cell_type": "code",
   "execution_count": null,
   "metadata": {
    "collapsed": true
   },
   "outputs": [],
   "source": []
  }
 ],
 "metadata": {
  "kernelspec": {
   "display_name": "Bash",
   "language": "bash",
   "name": "bash"
  },
  "language_info": {
   "codemirror_mode": "shell",
   "file_extension": ".sh",
   "mimetype": "text/x-sh",
   "name": "bash"
  }
 },
 "nbformat": 4,
 "nbformat_minor": 2
}

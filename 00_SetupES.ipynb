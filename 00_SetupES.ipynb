{
 "cells": [
  {
   "cell_type": "code",
   "execution_count": 1,
   "metadata": {},
   "outputs": [
    {
     "name": "stdout",
     "output_type": "stream",
     "text": [
      "--> Download and Setup ES\n",
      "  % Total    % Received % Xferd  Average Speed   Time    Time     Time  Current\n",
      "                                 Dload  Upload   Total   Spent    Left  Speed\n",
      "100 31.8M  100 31.8M    0     0  2905k      0  0:00:11  0:00:11 --:--:-- 4146k\n"
     ]
    }
   ],
   "source": [
    "echo \"--> Download and Setup ES\"\n",
    "curl 'https://artifacts.elastic.co/downloads/elasticsearch/elasticsearch-5.4.3.zip' -O\n",
    "unzip elasticsearch-*.zip &>/dev/null\n",
    "rm elasticsearch-*.zip\n",
    "mv elasticsearch-* es"
   ]
  },
  {
   "cell_type": "code",
   "execution_count": 2,
   "metadata": {},
   "outputs": [
    {
     "name": "stdout",
     "output_type": "stream",
     "text": [
      "--> Starten einer ElasticSearch Instanz\n"
     ]
    }
   ],
   "source": [
    "echo \"--> Starten einer ElasticSearch Instanz\"\n",
    "screen -d -m -S elastic ./es/bin/elasticsearch -Ecluster.name=garden -Enode.name=cherry"
   ]
  },
  {
   "cell_type": "code",
   "execution_count": null,
   "metadata": {
    "collapsed": true
   },
   "outputs": [],
   "source": []
  }
 ],
 "metadata": {
  "kernelspec": {
   "display_name": "Bash",
   "language": "bash",
   "name": "bash"
  },
  "language_info": {
   "codemirror_mode": "shell",
   "file_extension": ".sh",
   "mimetype": "text/x-sh",
   "name": "bash"
  }
 },
 "nbformat": 4,
 "nbformat_minor": 2
}

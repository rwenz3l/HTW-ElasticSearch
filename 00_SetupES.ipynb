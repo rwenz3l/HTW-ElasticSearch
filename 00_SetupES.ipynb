{
 "cells": [
  {
   "cell_type": "code",
   "execution_count": 1,
   "metadata": {},
   "outputs": [
    {
     "name": "stdout",
     "output_type": "stream",
     "text": [
      "Already Installed.\n"
     ]
    }
   ],
   "source": [
    "# Download and Setup ES\n",
    "if [[ ! -d \"es\" ]]; then\n",
    "    echo \"Installing ElasticSearch\"\n",
    "    curl 'https://artifacts.elastic.co/downloads/elasticsearch/elasticsearch-5.4.3.zip' -O\n",
    "    unzip elasticsearch-*.zip &>/dev/null\n",
    "    rm elasticsearch-*.zip\n",
    "    mv elasticsearch-* es\n",
    "else\n",
    "    echo \"Already Installed.\"\n",
    "fi"
   ]
  },
  {
   "cell_type": "code",
   "execution_count": 2,
   "metadata": {},
   "outputs": [
    {
     "name": "stdout",
     "output_type": "stream",
     "text": [
      "There is a screen on:\n",
      "\t2487.elastic\t(Detached)\n",
      "1 Socket in /var/folders/8n/5x_z2syd6bx_wxcm9g1flyrm0001g4/T/.screen.\n",
      "\n"
     ]
    },
    {
     "ename": "",
     "evalue": "1",
     "output_type": "error",
     "traceback": []
    }
   ],
   "source": [
    "# Starten einer ElasticSearch Instanz\n",
    "screen -d -m -S elastic ./es/bin/elasticsearch -Ecluster.name=garden -Enode.name=cherry\n",
    "sleep 2\n",
    "screen -ls"
   ]
  },
  {
   "cell_type": "code",
   "execution_count": null,
   "metadata": {
    "collapsed": true
   },
   "outputs": [],
   "source": [
    "# screen -X -S elastic quit\n",
    "# sleep 2\n",
    "# screen -ls"
   ]
  }
 ],
 "metadata": {
  "kernelspec": {
   "display_name": "Bash",
   "language": "bash",
   "name": "bash"
  },
  "language_info": {
   "codemirror_mode": "shell",
   "file_extension": ".sh",
   "mimetype": "text/x-sh",
   "name": "bash"
  }
 },
 "nbformat": 4,
 "nbformat_minor": 2
}

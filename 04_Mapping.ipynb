{
 "cells": [
  {
   "cell_type": "markdown",
   "metadata": {},
   "source": [
    "- Für die Realisierung der Facettensuche von Medien muss das aktuelle Medium-Mapping von HTWplus angepasst werden.\n",
    "- Dazu benötigt es neue Felder, mit den Werten, die hinterher aggregiert werden sollen."
   ]
  },
  {
   "cell_type": "code",
   "execution_count": 17,
   "metadata": {},
   "outputs": [
    {
     "name": "stdout",
     "output_type": "stream",
     "text": [
      "{\n",
      "  \"acknowledged\" : true\n",
      "}\n"
     ]
    }
   ],
   "source": [
    "# Delete existing Index\n",
    "curl -XDELETE 'localhost:9200/htwplus?pretty'"
   ]
  },
  {
   "cell_type": "code",
   "execution_count": 18,
   "metadata": {},
   "outputs": [
    {
     "name": "stdout",
     "output_type": "stream",
     "text": [
      "{\n",
      "  \"acknowledged\" : true,\n",
      "  \"shards_acknowledged\" : true\n",
      "}\n"
     ]
    }
   ],
   "source": [
    "# 1. Eine Gruppierung nach Eigentümern (Vor- und Nachname)\n",
    "# => Medium\n",
    "# name => firstname, lastname\n",
    "# The string field is unsupported for indexes created in 5.x in favor of the text and keyword fields.\n",
    "# change all 'string' => 'text'\n",
    "\n",
    "# Since 2.4 the Edge-N-Gram has changed so we create a new custom analyzer for Version 5\n",
    "# This needs to happen at the same time we create the mapping for our type(s)\n",
    "# Otherwise ES does not know about the analyzer ( analyzer not found exception )\n",
    "\n",
    "# After that we Setup The Mapping for Our Users which now include 'firstname' + 'lastname'\n",
    "# Instead of 'name'\n",
    "curl -XPUT 'localhost:9200/htwplus?pretty' -H 'Content-Type: application/json' -d'\n",
    "{\n",
    "  \"settings\": {\n",
    "    \"analysis\": {\n",
    "      \"analyzer\": {\n",
    "        \"edgengram_analyzer\": {\n",
    "          \"tokenizer\": \"htw_edge_ngram\"\n",
    "        }\n",
    "      },\n",
    "      \"tokenizer\": {\n",
    "        \"htw_edge_ngram\": {\n",
    "          \"type\": \"edge_ngram\",\n",
    "          \"min_gram\": 2,\n",
    "          \"max_gram\": 8,\n",
    "          \"token_chars\": [\n",
    "            \"letter\",\n",
    "            \"digit\"\n",
    "          ]\n",
    "        }\n",
    "      }\n",
    "    }\n",
    "  },\n",
    "  \"mappings\": {\n",
    "    \"medium\": {\n",
    "      \"properties\": {\n",
    "        \"owner\": {\n",
    "          \"type\": \"long\"\n",
    "        },\n",
    "        \"viewable\": {\n",
    "          \"type\": \"long\"\n",
    "        },\n",
    "        \"public\": {\n",
    "          \"type\": \"boolean\"\n",
    "        },\n",
    "        \"filename\": {\n",
    "          \"type\": \"text\",\n",
    "          \"analyzer\": \"edgengram_analyzer\",\n",
    "          \"search_analyzer\": \"whitespace\"\n",
    "        }\n",
    "      }\n",
    "    },\n",
    "    \"users\": {\n",
    "      \"properties\": {\n",
    "        \"studycourse\": {\n",
    "          \"index\": \"not_analyzed\",\n",
    "          \"type\": \"text\"\n",
    "        },\n",
    "        \"role\": {\n",
    "          \"index\": \"not_analyzed\",\n",
    "          \"type\": \"text\"\n",
    "        },\n",
    "        \"public\": {\n",
    "          \"type\": \"boolean\"\n",
    "        },\n",
    "        \"initial\": {\n",
    "          \"type\": \"keyword\"\n",
    "        },\n",
    "        \"degree\": {\n",
    "          \"index\": \"not_analyzed\",\n",
    "          \"type\": \"text\"\n",
    "        },\n",
    "        \"firstname\": {\n",
    "          \"search_analyzer\": \"whitespace\",\n",
    "          \"analyzer\": \"edgengram_analyzer\",\n",
    "          \"type\": \"text\"\n",
    "        },\n",
    "        \"lastname\": {\n",
    "          \"search_analyzer\": \"whitespace\",\n",
    "          \"analyzer\": \"edgengram_analyzer\",\n",
    "          \"type\": \"text\"\n",
    "        },\n",
    "        \"semester\": {\n",
    "          \"index\": \"not_analyzed\",\n",
    "          \"type\": \"text\"\n",
    "        },\n",
    "        \"avatar\": {\n",
    "          \"type\": \"text\"\n",
    "        },\n",
    "        \"friends\": {\n",
    "          \"type\": \"long\"\n",
    "        }\n",
    "      }\n",
    "    }\n",
    "  }\n",
    "}'"
   ]
  },
  {
   "cell_type": "code",
   "execution_count": 21,
   "metadata": {},
   "outputs": [
    {
     "name": "stdout",
     "output_type": "stream",
     "text": [
      "{\n",
      "  \"tokens\" : [\n",
      "    {\n",
      "      \"token\" : \"Iv\",\n",
      "      \"start_offset\" : 0,\n",
      "      \"end_offset\" : 2,\n",
      "      \"type\" : \"word\",\n",
      "      \"position\" : 0\n",
      "    },\n",
      "    {\n",
      "      \"token\" : \"Ive\",\n",
      "      \"start_offset\" : 0,\n",
      "      \"end_offset\" : 3,\n",
      "      \"type\" : \"word\",\n",
      "      \"position\" : 1\n",
      "    },\n",
      "    {\n",
      "      \"token\" : \"Iven\",\n",
      "      \"start_offset\" : 0,\n",
      "      \"end_offset\" : 4,\n",
      "      \"type\" : \"word\",\n",
      "      \"position\" : 2\n",
      "    },\n",
      "    {\n",
      "      \"token\" : \"Zi\",\n",
      "      \"start_offset\" : 5,\n",
      "      \"end_offset\" : 7,\n",
      "      \"type\" : \"word\",\n",
      "      \"position\" : 103\n",
      "    },\n",
      "    {\n",
      "      \"token\" : \"Zim\",\n",
      "      \"start_offset\" : 5,\n",
      "      \"end_offset\" : 8,\n",
      "      \"type\" : \"word\",\n",
      "      \"position\" : 104\n",
      "    },\n",
      "    {\n",
      "      \"token\" : \"Zimm\",\n",
      "      \"start_offset\" : 5,\n",
      "      \"end_offset\" : 9,\n",
      "      \"type\" : \"word\",\n",
      "      \"position\" : 105\n",
      "    },\n",
      "    {\n",
      "      \"token\" : \"Zimme\",\n",
      "      \"start_offset\" : 5,\n",
      "      \"end_offset\" : 10,\n",
      "      \"type\" : \"word\",\n",
      "      \"position\" : 106\n",
      "    },\n",
      "    {\n",
      "      \"token\" : \"Zimmer\",\n",
      "      \"start_offset\" : 5,\n",
      "      \"end_offset\" : 11,\n",
      "      \"type\" : \"word\",\n",
      "      \"position\" : 107\n",
      "    }\n",
      "  ]\n",
      "}\n"
     ]
    }
   ],
   "source": [
    "# Test The analyzer\n",
    "curl -XPOST 'localhost:9200/htwplus/_analyze?pretty' -H 'Content-Type: application/json' -d'\n",
    "{\n",
    "  \"analyzer\": \"edgengram_analyzer\",\n",
    "  \"text\": [\"Iven\",\"Zimmer\"]\n",
    "}'"
   ]
  },
  {
   "cell_type": "code",
   "execution_count": 23,
   "metadata": {},
   "outputs": [
    {
     "name": "stdout",
     "output_type": "stream",
     "text": [
      "{\n",
      "  \"_index\" : \"htwplus\",\n",
      "  \"_type\" : \"users\",\n",
      "  \"_id\" : \"AV1Aa4Yn2n88X6tmg0QN\",\n",
      "  \"_version\" : 1,\n",
      "  \"result\" : \"created\",\n",
      "  \"_shards\" : {\n",
      "    \"total\" : 2,\n",
      "    \"successful\" : 1,\n",
      "    \"failed\" : 0\n",
      "  },\n",
      "  \"created\" : true\n",
      "}\n"
     ]
    }
   ],
   "source": [
    "curl -XPOST 'localhost:9200/htwplus/users?pretty' -H 'Content-Type: application/json' -d'\n",
    "{\n",
    "    \"studycourse\" : \"Spezielle Anwendung - ElasticSearch\",\n",
    "    \"role\": \"Administrator\",\n",
    "    \"public\": true,\n",
    "    \"intitial\": \"IZ\",\n",
    "    \"degree\": \"Master\",\n",
    "    \"firstname\": \"Iven\",\n",
    "    \"Lastname\": \"Zimmer\",\n",
    "    \"Semester\": \"0\",\n",
    "    \"avatar\": \"owl.png\",\n",
    "    \"friends\": \"0\"\n",
    "}'"
   ]
  },
  {
   "cell_type": "code",
   "execution_count": 26,
   "metadata": {},
   "outputs": [
    {
     "name": "stdout",
     "output_type": "stream",
     "text": [
      "{\n",
      "  \"took\" : 49,\n",
      "  \"timed_out\" : false,\n",
      "  \"_shards\" : {\n",
      "    \"total\" : 5,\n",
      "    \"successful\" : 5,\n",
      "    \"failed\" : 0\n",
      "  },\n",
      "  \"hits\" : {\n",
      "    \"total\" : 1,\n",
      "    \"max_score\" : 1.0,\n",
      "    \"hits\" : [\n",
      "      {\n",
      "        \"_index\" : \"htwplus\",\n",
      "        \"_type\" : \"users\",\n",
      "        \"_id\" : \"AV1Aa4Yn2n88X6tmg0QN\",\n",
      "        \"_score\" : 1.0,\n",
      "        \"_source\" : {\n",
      "          \"studycourse\" : \"Spezielle Anwendung - ElasticSearch\",\n",
      "          \"role\" : \"Administrator\",\n",
      "          \"public\" : true,\n",
      "          \"intitial\" : \"IZ\",\n",
      "          \"degree\" : \"Master\",\n",
      "          \"firstname\" : \"Iven\",\n",
      "          \"Lastname\" : \"Zimmer\",\n",
      "          \"Semester\" : \"0\",\n",
      "          \"avatar\" : \"owl.png\",\n",
      "          \"friends\" : \"0\"\n",
      "        }\n",
      "      }\n",
      "    ]\n",
      "  }\n",
      "}\n"
     ]
    }
   ],
   "source": [
    "# Verify\n",
    "curl -XGET 'localhost:9200/htwplus/users/_search?pretty'"
   ]
  },
  {
   "cell_type": "code",
   "execution_count": null,
   "metadata": {
    "collapsed": true
   },
   "outputs": [],
   "source": [
    "# 2. Eine Gruppierung nach Speicherort (Root-Folder). (2 Punkte)\n",
    "\n",
    "# 3. Eine Gruppierung nach Upload-Datum. Flexibel nach Tag, Monat oder Jahr. (4 Punkte)\n",
    "\n",
    "# 4. Eine Gruppierung nach Dateiendungen."
   ]
  }
 ],
 "metadata": {
  "kernelspec": {
   "display_name": "Bash",
   "language": "bash",
   "name": "bash"
  },
  "language_info": {
   "codemirror_mode": "shell",
   "file_extension": ".sh",
   "mimetype": "text/x-sh",
   "name": "bash"
  }
 },
 "nbformat": 4,
 "nbformat_minor": 2
}

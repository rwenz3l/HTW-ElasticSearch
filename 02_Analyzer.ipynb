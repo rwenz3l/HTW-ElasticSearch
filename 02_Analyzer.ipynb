{
 "cells": [
  {
   "cell_type": "code",
   "execution_count": 1,
   "metadata": {
    "collapsed": true
   },
   "outputs": [],
   "source": [
    "# Workon Elasticsearch\n",
    "# workon elastic # (virtualenv)\n",
    "\n",
    "# Starte ES mit Params cluster=garden, node=tomato\n",
    "# screen -mdS elastic elasticsearch -Ecluster.name=garden -Enode.name=tomato"
   ]
  },
  {
   "cell_type": "code",
   "execution_count": 2,
   "metadata": {},
   "outputs": [
    {
     "name": "stdout",
     "output_type": "stream",
     "text": [
      "{\n",
      "  \"acknowledged\" : true,\n",
      "  \"shards_acknowledged\" : true\n",
      "}\n"
     ]
    }
   ],
   "source": [
    "# Für Spielereien/Tests kann der Index geschlossen oder Gelöscht werden\n",
    "# Close Index\n",
    "# curl -XPOST 'localhost:9200/demo/_close?pretty'\n",
    "# Delete Index\n",
    "# curl -XDELETE 'localhost:9200/demo?pretty'\n",
    "\n",
    "# Erstelle einen Index mit einem Custom Analyzer, anders kann man den Anforderungen\n",
    "# nicht gerecht werden.\n",
    "curl -XPUT 'localhost:9200/demo?pretty' -H 'Content-Type: application/json' -d'\n",
    "{\n",
    "  \"settings\": {\n",
    "    \"analysis\": {\n",
    "      \"analyzer\": {\n",
    "        \"uebung2\": { \n",
    "          \"type\": \"custom\",\n",
    "          \"tokenizer\": \"whitespace\",\n",
    "          \"filter\": [\n",
    "            \"lowercase\"\n",
    "          ],\n",
    "          \"char_filter\" : [\n",
    "            \"umlaut\"\n",
    "          ]\n",
    "        }\n",
    "      },\n",
    "      \"char_filter\" : {\n",
    "        \"umlaut\" : {\n",
    "        \"type\" : \"mapping\",\n",
    "        \"mappings\" : [\n",
    "          \"ä => ae\",\n",
    "          \"ö => oe\",\n",
    "          \"ü => ue\",\n",
    "          \"ß => ss\"\n",
    "        ]\n",
    "        }\n",
    "      }\n",
    "    }\n",
    "  }\n",
    "}'"
   ]
  },
  {
   "cell_type": "code",
   "execution_count": 3,
   "metadata": {},
   "outputs": [
    {
     "name": "stdout",
     "output_type": "stream",
     "text": [
      "{\n",
      "  \"tokens\" : [\n",
      "    {\n",
      "      \"token\" : \"frueh\",\n",
      "      \"start_offset\" : 0,\n",
      "      \"end_offset\" : 4,\n",
      "      \"type\" : \"word\",\n",
      "      \"position\" : 0\n",
      "    },\n",
      "    {\n",
      "      \"token\" : \"uebt\",\n",
      "      \"start_offset\" : 5,\n",
      "      \"end_offset\" : 8,\n",
      "      \"type\" : \"word\",\n",
      "      \"position\" : 1\n",
      "    },\n",
      "    {\n",
      "      \"token\" : \"sich,\",\n",
      "      \"start_offset\" : 9,\n",
      "      \"end_offset\" : 14,\n",
      "      \"type\" : \"word\",\n",
      "      \"position\" : 2\n",
      "    },\n",
      "    {\n",
      "      \"token\" : \"was\",\n",
      "      \"start_offset\" : 15,\n",
      "      \"end_offset\" : 18,\n",
      "      \"type\" : \"word\",\n",
      "      \"position\" : 3\n",
      "    },\n",
      "    {\n",
      "      \"token\" : \"ein\",\n",
      "      \"start_offset\" : 19,\n",
      "      \"end_offset\" : 22,\n",
      "      \"type\" : \"word\",\n",
      "      \"position\" : 4\n",
      "    },\n",
      "    {\n",
      "      \"token\" : \"meister\",\n",
      "      \"start_offset\" : 23,\n",
      "      \"end_offset\" : 30,\n",
      "      \"type\" : \"word\",\n",
      "      \"position\" : 5\n",
      "    },\n",
      "    {\n",
      "      \"token\" : \"werden\",\n",
      "      \"start_offset\" : 31,\n",
      "      \"end_offset\" : 37,\n",
      "      \"type\" : \"word\",\n",
      "      \"position\" : 6\n",
      "    },\n",
      "    {\n",
      "      \"token\" : \"will.\",\n",
      "      \"start_offset\" : 38,\n",
      "      \"end_offset\" : 43,\n",
      "      \"type\" : \"word\",\n",
      "      \"position\" : 7\n",
      "    }\n",
      "  ]\n",
      "}\n"
     ]
    }
   ],
   "source": [
    "# Rufe die Analyze API auf dem Index auf und spezifiziere den Analyzer\n",
    "curl -XPOST 'localhost:9200/demo/_analyze?pretty' -H 'Content-Type: application/json' -d'\n",
    "{\n",
    "  \"analyzer\": \"uebung2\",\n",
    "  \"text\": \"Früh übt sich, was ein Meister werden will.\"\n",
    "}\n",
    "'"
   ]
  }
 ],
 "metadata": {
  "kernelspec": {
   "display_name": "Bash",
   "language": "bash",
   "name": "bash"
  },
  "language_info": {
   "codemirror_mode": "shell",
   "file_extension": ".sh",
   "mimetype": "text/x-sh",
   "name": "bash"
  }
 },
 "nbformat": 4,
 "nbformat_minor": 2
}

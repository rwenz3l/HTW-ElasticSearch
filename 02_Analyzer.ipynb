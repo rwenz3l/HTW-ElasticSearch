{
 "cells": [
  {
   "cell_type": "code",
   "execution_count": null,
   "metadata": {
    "collapsed": true
   },
   "outputs": [],
   "source": [
    "# Workon Elasticsearch\n",
    "# workon elastic # (virtualenv)\n",
    "\n",
    "# Starte ES mit Params cluster=garden, node=tomato\n",
    "screen -mdS elastic elasticsearch -Ecluster.name=garden -Enode.name=tomato\n",
    "\n",
    "# Close Index\n",
    "curl -XPOST 'localhost:9200/demo/_close?pretty'\n",
    "# Delete Index\n",
    "curl -XDELETE 'localhost:9200/demo?pretty'\n",
    "\n",
    "# Erstelle einen Index mit einem Custom Analyzer, anders kann man den Anforderungen\n",
    "# nicht gerecht werden.\n",
    "curl -XPUT 'localhost:9200/demo?pretty' -H 'Content-Type: application/json' -d'\n",
    "{\n",
    "  \"settings\": {\n",
    "    \"analysis\": {\n",
    "      \"analyzer\": {\n",
    "        \"uebung2\": { \n",
    "          \"type\": \"custom\",\n",
    "          \"tokenizer\": \"whitespace\",\n",
    "          \"filter\": [\n",
    "            \"lowercase\"\n",
    "          ],\n",
    "          \"char_filter\" : [\n",
    "            \"umlaut\"\n",
    "          ]\n",
    "        }\n",
    "      },\n",
    "      \"char_filter\" : {\n",
    "        \"umlaut\" : {\n",
    "        \"type\" : \"mapping\",\n",
    "        \"mappings\" : [\n",
    "          \"ä => ae\",\n",
    "          \"ö => oe\",\n",
    "          \"ü => ue\",\n",
    "          \"ß => ss\"\n",
    "        ]\n",
    "        }\n",
    "      }\n",
    "    }\n",
    "  }\n",
    "}\n",
    "'\n",
    "\n",
    "# Rufe die Analyze API auf dem Index auf und spezifiziere den Analyzer\n",
    "curl -XPOST 'localhost:9200/demo/_analyze?pretty' -H 'Content-Type: application/json' -d'\n",
    "{\n",
    "  \"analyzer\": \"uebung2\",\n",
    "  \"text\": \"Früh übt sich, was ein Meister werden will.\"\n",
    "}\n",
    "'"
   ]
  }
 ],
 "metadata": {
  "kernelspec": {
   "display_name": "Bash",
   "language": "bash",
   "name": "bash"
  },
  "language_info": {
   "codemirror_mode": "shell",
   "file_extension": ".sh",
   "mimetype": "text/x-sh",
   "name": "bash"
  }
 },
 "nbformat": 4,
 "nbformat_minor": 2
}
